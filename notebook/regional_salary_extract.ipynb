{
 "cells": [
  {
   "cell_type": "markdown",
   "metadata": {},
   "source": [
    "# Regional Salary Data Extraction Tool\n",
    "\n",
    "## Purpose\n",
    "This notebook extracts and compiles salary data from multiple Excel files into a single consolidated dataset.\n",
    "\n",
    "## Input Requirements\n",
    "- Excel files must have two sheets:\n",
    "  - 'Input Data' sheet with headers in A4:A5 and values in B4:B5\n",
    "  - 'Salaries' sheet with headers in A3:F3 and data starting from row 4\n",
    "\n",
    "## Output\n",
    "- Creates 'compiled_data.xlsx' containing consolidated salary data from all input files"
   ]
  },
  {
   "cell_type": "code",
   "execution_count": 30,
   "metadata": {},
   "outputs": [],
   "source": [
    "import os\n",
    "import pandas as pd"
   ]
  },
  {
   "cell_type": "code",
   "execution_count": 31,
   "metadata": {},
   "outputs": [],
   "source": [
    "def process_spreadsheet(file_path):\n",
    "    \"\"\"\n",
    "    Process an individual Excel spreadsheet and extract salary data.\n",
    "    \n",
    "    Args:\n",
    "        file_path (str): Path to the Excel file\n",
    "        \n",
    "    Returns:\n",
    "        pandas.DataFrame: Processed data from the spreadsheet\n",
    "        None: If there's an error processing the file\n",
    "    \"\"\"\n",
    "    try:\n",
    "        # Read Input Data sheet\n",
    "        input_data = pd.read_excel(file_path, sheet_name='Input Data')\n",
    "        \n",
    "        # Fixed indices to match actual data location\n",
    "        header1 = input_data.iloc[2, 0]  # A3\n",
    "        header2 = input_data.iloc[3, 0]  # A4\n",
    "        value1 = input_data.iloc[2, 1]   # B3\n",
    "        value2 = input_data.iloc[3, 1]   # B4\n",
    "        \n",
    "        # Read Salaries sheet, skipping two rows to get to the header row\n",
    "        salary_data = pd.read_excel(file_path, sheet_name='Salaries', header=2)\n",
    "        \n",
    "        # Remove any completely empty rows\n",
    "        salary_data = salary_data.dropna(how='all')\n",
    "        \n",
    "        # Add the input data columns\n",
    "        salary_data[header1] = value1\n",
    "        salary_data[header2] = value2\n",
    "        \n",
    "        # Add source file column\n",
    "        salary_data['Source File'] = os.path.basename(file_path)\n",
    "        \n",
    "        return salary_data\n",
    "        \n",
    "    except Exception as e:\n",
    "        print(f\"Error processing {file_path}: {str(e)}\")\n",
    "        return None"
   ]
  },
  {
   "cell_type": "code",
   "execution_count": 32,
   "metadata": {},
   "outputs": [],
   "source": [
    "def main():\n",
    "    folder_path = r\"C:\\Users\\scott\\OneDrive\\Desktop\\DS4B_301P_FASTRACK\\excel_extract_salaries\\data\"\n",
    "    all_data = []\n",
    "    first_file_columns = None\n",
    "    \n",
    "    print(f\"Looking for Excel files in: {folder_path}\")\n",
    "    \n",
    "    for filename in os.listdir(folder_path):\n",
    "        if filename.endswith('.xlsx'):\n",
    "            file_path = os.path.join(folder_path, filename)\n",
    "            try:\n",
    "                df = process_spreadsheet(file_path)\n",
    "                if df is not None:\n",
    "                    if first_file_columns is None:\n",
    "                        first_file_columns = df.columns.tolist()\n",
    "                    else:\n",
    "                        # Ensure all dataframes have the same columns as the first file\n",
    "                        for col in first_file_columns:\n",
    "                            if col not in df.columns:\n",
    "                                df[col] = ''  # Add missing columns with empty values\n",
    "                        df = df[first_file_columns]  # Reorder columns to match first file\n",
    "                    all_data.append(df)\n",
    "                    print(f\"Successfully processed: {filename}\")\n",
    "            except Exception as e:\n",
    "                print(f\"Error processing {filename}: {str(e)}\")\n",
    "    \n",
    "    if not all_data:\n",
    "        print(\"No data was processed successfully. Please check the files and permissions.\")\n",
    "        return\n",
    "\n",
    "    # Combine all DataFrames\n",
    "    final_df = pd.concat(all_data, ignore_index=True)\n",
    "    \n",
    "    # Export to Excel in output directory\n",
    "    output_dir = r\"C:\\Users\\scott\\OneDrive\\Desktop\\DS4B_301P_FASTRACK\\excel_extract_salaries\\data\"\n",
    "    os.makedirs(output_dir, exist_ok=True)  # Create output directory if it doesn't exist\n",
    "    output_path = os.path.join(output_dir, 'compiled_data.xlsx')\n",
    "    \n",
    "    try:\n",
    "        final_df.to_excel(output_path, index=False)\n",
    "        print(f\"\\nData compiled and exported to {output_path}\")\n",
    "        print(f\"Total rows in output: {len(final_df)}\")\n",
    "    except Exception as e:\n",
    "        print(f\"Error exporting data: {str(e)}\")"
   ]
  },
  {
   "cell_type": "code",
   "execution_count": 33,
   "metadata": {},
   "outputs": [
    {
     "name": "stdout",
     "output_type": "stream",
     "text": [
      "Looking for Excel files in: C:\\Users\\scott\\OneDrive\\Desktop\\DS4B_301P_FASTRACK\\excel_extract_salaries\\data\n",
      "Successfully processed: Salary_Report_BatonRouge.xlsx\n",
      "Successfully processed: Salary_Report_Lafayette.xlsx\n",
      "Successfully processed: Salary_Report_Monroe.xlsx\n",
      "Successfully processed: Salary_Report_NewOrleans.xlsx\n",
      "Successfully processed: Salary_Report_Northeast.xlsx\n",
      "Successfully processed: Salary_Report_Plaquemines.xlsx\n",
      "\n",
      "Data compiled and exported to C:\\Users\\scott\\OneDrive\\Desktop\\DS4B_301P_FASTRACK\\excel_extract_salaries\\data\\compiled_data.xlsx\n",
      "Total rows in output: 24\n"
     ]
    }
   ],
   "source": [
    "# Run the script\n",
    "if __name__ == \"__main__\":\n",
    "    main()"
   ]
  }
 ],
 "metadata": {
  "kernelspec": {
   "display_name": "Python 3",
   "language": "python",
   "name": "python3"
  },
  "language_info": {
   "codemirror_mode": {
    "name": "ipython",
    "version": 3
   },
   "file_extension": ".py",
   "mimetype": "text/x-python",
   "name": "python",
   "nbconvert_exporter": "python",
   "pygments_lexer": "ipython3",
   "version": "3.10.14"
  }
 },
 "nbformat": 4,
 "nbformat_minor": 2
}
